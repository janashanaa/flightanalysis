{
 "cells": [
  {
   "cell_type": "markdown",
   "id": "fac9e0b6-c68a-4f05-be80-e9798e5aab35",
   "metadata": {},
   "source": [
    "# Introduction"
   ]
  },
  {
   "cell_type": "markdown",
   "id": "b475bf48-9fb9-4016-a930-602d94660f92",
   "metadata": {},
   "source": [
    "In this project I will be analysing a [dataset](https://www.kaggle.com/datasets/shubhambathwal/flight-price-prediction) that's derived from a flight booking website.<br>\n",
    "\n",
    "The following tasks will be performed:\n",
    "1. Data cleaning using Python\n",
    "2. Exploratory data analysis (EDA) using python libraries (Pandas, Matplotlib, Seaborn)\n",
    "3. Data visualisation using Matplotlib and Seaborn\n",
    "\n",
    "We aim to answer the questions below:\n",
    "- What's the most popular airline in this dataset?\n",
    "- What's the average price of each airline?\n",
    "- What time of day do most flights depart and arrive and vice versa?\n",
    "- Does ticket price vary with change in departure and arrival periods?\n",
    "- What cities do most flights depart from and arrive to and vice versa?\n",
    "- Does ticket price vary with change in source and destination cities?\n",
    "- Is there a relationship between booking date and the price you pay?\n",
    "- What is the trend of price changes as the departure day approaches?"
   ]
  },
  {
   "cell_type": "markdown",
   "id": "d9381018-0b5a-45b7-8660-1846ed5a848b",
   "metadata": {},
   "source": [
    "## Importing Required Libraries"
   ]
  },
  {
   "cell_type": "code",
   "execution_count": null,
   "id": "2ab03aae-3f1d-4d4d-88f1-aed0939ea30d",
   "metadata": {
    "scrolled": true
   },
   "outputs": [],
   "source": [
    "# import the required python libraries\n",
    "\n",
    "import pandas as pd\n",
    "import matplotlib.pyplot as plt\n",
    "import numpy as np\n",
    "import seaborn as sns"
   ]
  },
  {
   "cell_type": "markdown",
   "id": "92494c20-055f-46cd-b13e-f4660d5bc400",
   "metadata": {},
   "source": [
    "## Reading Dataset"
   ]
  },
  {
   "cell_type": "code",
   "execution_count": null,
   "id": "8c6b2d06-d5f6-42fb-bc4e-b0d6726c847c",
   "metadata": {},
   "outputs": [],
   "source": [
    "# import the dataset using the first column as the index\n",
    "\n",
    "df = pd.read_csv(\"C:\\\\Users\\\\Jana\\\\Desktop\\\\Flight Analysis\\\\flight_dataset.csv\", index_col=0)"
   ]
  },
  {
   "cell_type": "code",
   "execution_count": null,
   "id": "8d8222fa-5769-4674-9515-51f62414dcde",
   "metadata": {},
   "outputs": [],
   "source": [
    "# display first 5 rows\n",
    "\n",
    "df.head()"
   ]
  },
  {
   "cell_type": "markdown",
   "id": "64440641-8bd7-4aa3-a78b-8413df18e276",
   "metadata": {},
   "source": [
    "## Initial Inspection"
   ]
  },
  {
   "cell_type": "code",
   "execution_count": null,
   "id": "9b24fc71-44f0-448a-add9-cfd4625d46b8",
   "metadata": {},
   "outputs": [],
   "source": [
    "# view the dataset's dimensionality (rows, columns)\n",
    "\n",
    "df.shape"
   ]
  },
  {
   "cell_type": "code",
   "execution_count": null,
   "id": "5f1f124c-5621-469f-966b-48b87743ce9c",
   "metadata": {},
   "outputs": [],
   "source": [
    "# get information about the dataset\n",
    "\n",
    "df.info()"
   ]
  },
  {
   "cell_type": "markdown",
   "id": "dc8b30de-0cc9-4d89-bec2-37b361125eba",
   "metadata": {},
   "source": [
    "## Data Cleaning"
   ]
  },
  {
   "cell_type": "code",
   "execution_count": null,
   "id": "dcbf56e8-87a7-42e2-9825-e5588e0bd44c",
   "metadata": {},
   "outputs": [],
   "source": [
    "# rename some columns for better understanding\n",
    "\n",
    "df.rename(columns={'flight': 'flight_code' , 'departure_time': 'departure_period' , 'arrival_time': 'arrival_period'}, inplace=True)\n",
    "df.head()"
   ]
  },
  {
   "cell_type": "markdown",
   "id": "968de848-87b1-430b-b68b-4ebbc6c356d7",
   "metadata": {},
   "source": [
    "### About the Dataset"
   ]
  },
  {
   "cell_type": "markdown",
   "id": "d5769491-3e29-4e92-b3e3-02e923bedc6f",
   "metadata": {},
   "source": [
    "The dataset contains the following attributes: <br>\n",
    "\n",
    "1. **Airline:** The name of the airline company.\n",
    "2. **Flight Code:** The plane's flight code which consists of a two-character airline designator and a 1 to 4 digit number.\n",
    "4. **Source City:** The departure city, the city where the journey begins and the passenger starts their travel.\n",
    "5. **Departure Period:** The departure period of the flight created by grouping time periods into bins.\n",
    "6. **Stops:** The number of stops between the source and destination cities.\n",
    "7. **Arrival Period:** The arrival period of the flight created by grouping time periods into bins.\n",
    "8. **Destination City:** The final city that marks the end of the flight.\n",
    "9. **Class:** The specific cabin or level of service depending on the seat.\n",
    "10. **Duration:** The overall time it takes to travel between cities in hours.\n",
    "11. **Days Left:** The number of days between booking and flight date.\n",
    "12. **Price:** The cost of the ticket provided in the same currency."
   ]
  },
  {
   "cell_type": "code",
   "execution_count": null,
   "id": "50338969-e019-4eac-a91a-26c2bbc28ca8",
   "metadata": {},
   "outputs": [],
   "source": [
    "# count missing values\n",
    "\n",
    "print(df.isnull().sum())"
   ]
  },
  {
   "cell_type": "markdown",
   "id": "7dd2dfbe-ed46-43d5-903a-12e3e4e9c702",
   "metadata": {},
   "source": [
    "**This shows that there are no _null_ or missing values in the dataframe.**"
   ]
  },
  {
   "cell_type": "code",
   "execution_count": null,
   "id": "758277e2-9327-4689-b89d-12655cae9669",
   "metadata": {},
   "outputs": [],
   "source": [
    "# detect duplicate rows\n",
    "\n",
    "has_duplicates= df.duplicated().any()\n",
    "print(f\"Does the dataframe have any duplicate rows?\\n{has_duplicates}\")"
   ]
  },
  {
   "cell_type": "code",
   "execution_count": null,
   "id": "2bb410ed-07f1-4751-a478-df846bcb8873",
   "metadata": {},
   "outputs": [],
   "source": [
    "# remove leading and trailing spaces\n",
    "\n",
    "df_stripped= df.map(lambda x: x.strip() if isinstance(x, str) else x)\n",
    "print(df_stripped)"
   ]
  },
  {
   "cell_type": "code",
   "execution_count": null,
   "id": "e43ffad8-050f-4078-903a-0f36e8355e09",
   "metadata": {},
   "outputs": [],
   "source": [
    "# save the clean data\n",
    "\n",
    "df2= df_stripped\n",
    "df2.to_csv('cleaned_data.csv', index=False)\n",
    "print(\"Cleaned data saved to 'cleaned_data.csv'\")"
   ]
  },
  {
   "cell_type": "markdown",
   "id": "231becf7-dc83-4a6d-a76c-902ee5b9d898",
   "metadata": {},
   "source": [
    "## Summary Statistics"
   ]
  },
  {
   "cell_type": "code",
   "execution_count": null,
   "id": "83fab4ea-0276-4a9e-b281-74c1826ad7ca",
   "metadata": {},
   "outputs": [],
   "source": [
    "# view statistics of numerical columns\n",
    "\n",
    "df2.describe().T"
   ]
  },
  {
   "cell_type": "markdown",
   "id": "402fd0ed-a20b-42c5-a9af-a0ed3aba9b98",
   "metadata": {},
   "source": [
    "The **count** for these columns is equal to the number of rows so there are no missing values.\n",
    "\n",
    "#### Duration:\n",
    "\n",
    "The standard deviation **std** is large relative to its **mean** which shows that flight lengths vary significantly.\n",
    "\n",
    "Since the **mean** is greater than the **median**, it suggests that the distribution might be slightly ___right skewed___.\n",
    "\n",
    "The average is being pulled up by a long tail of very long flights.\n",
    "\n",
    "**min** (50 minutes) to **max** (50 hours) shows a wide range of flight durations.\n",
    "\n",
    "#### Days Left:\n",
    "\n",
    "**mean** is equal to the **median**, this suggests that the distribution might be a ___unifrom___ distribution.\n",
    "\n",
    "The standard deviation **std** compared to the **mean** shows a moderate variability of booking times.\n",
    "\n",
    "#### Price:\n",
    "\n",
    "The standard deviation **std** shows extremely high variability.<br>\n",
    "**std** is also greater than the **mean** which indicates a highly ___right skewed___ distribution.\n",
    "\n",
    "**min** and **max** show that we have a large range of data which indicates _great variability_.<br>\n",
    "This means the data points are widely spread out or dispersed from the **mean**/average.\n",
    "\n",
    "The **mean**/average $ ≈ $ 20,890 is much greater than the **median**/50th percentile which shows that half the values fall below 7,425.<br>\n",
    "This indicates that: \n",
    "- Most tickets are relatively cheap, below the **75th percentile** (42,521)\n",
    "- A small number of very expensive tickets are pulling the average price up\n",
    "- Most people are paying closer to the median (7,425) than the mean (20,890)\n",
    "\n",
    "There is a large gap between the **75%** (42,521) and **max** (123,071).<br>\n",
    "This also indicates a _right skewed_ distribution."
   ]
  },
  {
   "cell_type": "code",
   "execution_count": null,
   "id": "ca3a1513-3041-4d2d-990d-2bd1c84ee31c",
   "metadata": {},
   "outputs": [],
   "source": [
    "# view the most frequent values\n",
    "\n",
    "df2.mode()"
   ]
  },
  {
   "cell_type": "markdown",
   "id": "10659748-3b9d-40da-81c5-cebd6e4d1716",
   "metadata": {},
   "source": [
    "## Data Visualisation and Analysis\n",
    "### Distribution of flight _durations_"
   ]
  },
  {
   "cell_type": "code",
   "execution_count": null,
   "id": "56032ec0-7919-4b7d-bb1d-9cf182606ba3",
   "metadata": {},
   "outputs": [],
   "source": [
    "# create the histogram\n",
    "\n",
    "plt.figure(figsize=(10, 5))\n",
    "plt.hist(df2['duration'], bins=50, color='gold', edgecolor='black')\n",
    "plt.title('Distribution of Flight Durations')\n",
    "plt.xlabel('Duration (hours)')\n",
    "plt.ylabel('Frequency')\n",
    "plt.grid(True)\n",
    "plt.show()"
   ]
  },
  {
   "cell_type": "markdown",
   "id": "bc6ef4f4-de4e-49a0-a739-62899f04925f",
   "metadata": {},
   "source": [
    "This shows a **right skewed** distribution with a long right tail, with most flight lengths (short and medium) clustered on the left."
   ]
  },
  {
   "cell_type": "markdown",
   "id": "b4dfaf0a-f504-4bf2-aaa8-02da75979f26",
   "metadata": {},
   "source": [
    "### Distribution of _days left_ until departure"
   ]
  },
  {
   "cell_type": "code",
   "execution_count": null,
   "id": "44b5979e-85c1-466d-ba24-ba7a1a474174",
   "metadata": {},
   "outputs": [],
   "source": [
    "plt.figure(figsize=(10, 5))\n",
    "plt.hist(df2['days_left'], bins=49, color='seagreen', edgecolor='black')\n",
    "plt.title('Distribution of Days Left Until Departure')\n",
    "plt.xlabel('Days Left')\n",
    "plt.ylabel('Frequency')\n",
    "plt.grid(True)\n",
    "plt.show()"
   ]
  },
  {
   "cell_type": "markdown",
   "id": "fadadf2d-6a44-43c3-908e-1fed502f4ca8",
   "metadata": {},
   "source": [
    "This shows a **uniform** distribution, which indicates that the bookings are spread out evenly across the possible timeline."
   ]
  },
  {
   "cell_type": "markdown",
   "id": "a967df42-c898-4e12-9c2b-7876fa5d0d5d",
   "metadata": {},
   "source": [
    "### Distribution of flight _prices_"
   ]
  },
  {
   "cell_type": "code",
   "execution_count": null,
   "id": "dfa100b7-83a9-4bb6-8bc0-3ee3e9c82857",
   "metadata": {},
   "outputs": [],
   "source": [
    "# create the histogram\n",
    "\n",
    "plt.figure(figsize=(10, 5))\n",
    "plt.hist(df2['price'], bins=50, color='royalblue', edgecolor='black')\n",
    "plt.title('Distribution of Flight Prices')\n",
    "plt.xlabel('Price (rupees)')\n",
    "plt.ylabel('Frequency')\n",
    "plt.grid(True)\n",
    "plt.show()"
   ]
  },
  {
   "cell_type": "markdown",
   "id": "bb932073-b0be-4e36-8711-5e6fd1bf0145",
   "metadata": {},
   "source": [
    "This shows a **right skewed** distribution, with most tickets being relatively cheap.<br>\n",
    "The most common price range is from 1,100 to 10,000."
   ]
  },
  {
   "cell_type": "markdown",
   "id": "876dee65-7640-4675-be6d-a2a9afbd24b5",
   "metadata": {},
   "source": [
    "### What's the most popular _airline_ in this dataset?"
   ]
  },
  {
   "cell_type": "code",
   "execution_count": null,
   "id": "e2189e73-68e0-4bee-a72d-13df3053b966",
   "metadata": {},
   "outputs": [],
   "source": [
    "# check number and names of airlines\n",
    "\n",
    "airlines= df2['airline'].unique()\n",
    "airlines_string= \", \".join(airlines)\n",
    "num= df2['airline'].nunique()\n",
    "print(f\"There are {num} airlines:\" , airlines_string)"
   ]
  },
  {
   "cell_type": "code",
   "execution_count": null,
   "id": "453d1e8f-7da5-478b-bbef-01013110a21d",
   "metadata": {},
   "outputs": [],
   "source": [
    "# count number of flights of each airline \n",
    "\n",
    "airline_count= df2['airline'].value_counts()\n",
    "print(airline_count)"
   ]
  },
  {
   "cell_type": "code",
   "execution_count": null,
   "id": "f66a81a3-5c97-45a2-9cc2-cd02a60f701e",
   "metadata": {},
   "outputs": [],
   "source": [
    "# create a bar graph\n",
    "\n",
    "plt.figure(figsize=(10, 5))\n",
    "plt.bar(airline_count.index, airline_count.values, color='steelblue')\n",
    "plt.title('Airlines ranked by popularity')\n",
    "plt.xlabel('Airlines')\n",
    "plt.ylabel('Number of Flights')\n",
    "plt.show()"
   ]
  },
  {
   "cell_type": "markdown",
   "id": "cb63929b-5bd9-4953-b26c-aa03b3adc08d",
   "metadata": {},
   "source": [
    "We conclude that **Vistara** is the most popular airline."
   ]
  },
  {
   "cell_type": "markdown",
   "id": "7861cd45-a9b9-4c0f-a885-5fe357cf5542",
   "metadata": {},
   "source": [
    "### What's the _average price_ of each _airline_?"
   ]
  },
  {
   "cell_type": "code",
   "execution_count": null,
   "id": "11f6f173-3f7d-40f0-af58-4068556e308a",
   "metadata": {},
   "outputs": [],
   "source": [
    "# create a bar graph\n",
    "\n",
    "plt.figure(figsize=(10, 5))\n",
    "\n",
    "# calculate the mean price for each unique value of 'airline'\n",
    "sns.barplot(x='airline', y='price', data=df2, estimator='mean', palette='Blues_r', hue='airline', errorbar=None)\n",
    "plt.title('Average Price of each Airline')\n",
    "plt.xlabel('Airlines')\n",
    "plt.ylabel('Average Price')\n",
    "plt.show()"
   ]
  },
  {
   "cell_type": "markdown",
   "id": "76293bcc-9413-4066-b5f7-7fb11b67ed5e",
   "metadata": {},
   "source": [
    "_Vistara_ followed by _Air India_ have the highest average prices. However, this doesn't show us the complete picture.<br>\n",
    "To uncover hidden patterns, we will divide the bars by **class**."
   ]
  },
  {
   "cell_type": "markdown",
   "id": "75c8847f-bb0a-4a45-9483-f8b324782907",
   "metadata": {},
   "source": [
    "#### Average price of airlines split by _class_"
   ]
  },
  {
   "cell_type": "code",
   "execution_count": null,
   "id": "c5fb3b5d-13a5-4c54-9881-7bae7781cd08",
   "metadata": {},
   "outputs": [],
   "source": [
    "plt.figure(figsize=(10, 5))\n",
    "\n",
    "# create a grouped bar chart\n",
    "# for each airline display multiple bars, one for each class\n",
    "sns.barplot(x='airline', y='price', data=df2, estimator='mean', palette='Blues_r', hue='class', errorbar=None)\n",
    "plt.title('Average Price of each Airline split by Class')\n",
    "plt.xlabel('Airlines')\n",
    "plt.ylabel('Average Price')\n",
    "plt.legend(title='Class', bbox_to_anchor=(1.05, 1))\n",
    "plt.show()"
   ]
  },
  {
   "cell_type": "markdown",
   "id": "94e3e605-57dc-4465-8031-919c2fd5ba52",
   "metadata": {},
   "source": [
    "_Vistara_ and _Air India_ have higher average prices due to having the option to fly **business class** which other airlines don't seem to be providing.<br>\n",
    "This affects the overall average price of each airline.<br>\n",
    "Across the **economy class** the average price is in similar ranges with _Vistara_ and _Air India_ being in the lead which might suggest strong brand loyalty or better service.<br>\n",
    "Overall, **Vistara** is not the most popular due to its low ticket prices, but because it sold a higher number of business class tickets."
   ]
  },
  {
   "cell_type": "markdown",
   "id": "0c538727-30ca-44d9-ba40-4a12ffa36fac",
   "metadata": {},
   "source": [
    "### What time of day do most flights _depart_ and _arrive_ and vice versa?"
   ]
  },
  {
   "cell_type": "code",
   "execution_count": null,
   "id": "2e54b7fe-fe5f-4a15-9786-9f96ca231b37",
   "metadata": {},
   "outputs": [],
   "source": [
    "# count number of departure and arrival periods\n",
    "\n",
    "departure_count= df2['departure_period'].value_counts()\n",
    "arrival_count= df2['arrival_period'].value_counts()\n",
    "print(departure_count)\n",
    "print('\\n', arrival_count)"
   ]
  },
  {
   "cell_type": "code",
   "execution_count": null,
   "id": "ba952f26-dd1a-4360-9af5-074c89abd00b",
   "metadata": {},
   "outputs": [],
   "source": [
    "plt.figure(figsize=(12, 4))\n",
    "\n",
    "# departure bar plot\n",
    "\n",
    "plt.subplot(1, 2, 1)\n",
    "plt.bar(departure_count.index, departure_count.values, color='grey')\n",
    "plt.title('Flight Departure Times')\n",
    "plt.xlabel('Departure Period')\n",
    "plt.ylabel('Number of Flights')\n",
    "plt.xticks(rotation=45)\n",
    "\n",
    "# arrival bar plot\n",
    "\n",
    "plt.subplot(1, 2, 2)\n",
    "plt.bar(arrival_count.index, arrival_count.values, color='black')\n",
    "plt.title('Flight Arrival Times')\n",
    "plt.xlabel('Arrival Period')\n",
    "plt.xticks(rotation=45)\n",
    "plt.show()"
   ]
  },
  {
   "cell_type": "markdown",
   "id": "804ed928-91a3-4f28-bcf2-f746b6d558ac",
   "metadata": {},
   "source": [
    "Most flights departed in the **morning** and arrived at **night**.<br>\n",
    "Little flights departed and arrived at **late night**."
   ]
  },
  {
   "cell_type": "markdown",
   "id": "a715e9b7-4cab-48e5-adae-9a5b54f681b8",
   "metadata": {},
   "source": [
    "### Does ticket _price_ vary with change in _departure_ and _arrival_ periods?"
   ]
  },
  {
   "cell_type": "code",
   "execution_count": null,
   "id": "e4bc58e7-2aea-4669-b237-43101bba5bbf",
   "metadata": {},
   "outputs": [],
   "source": [
    "plt.figure(figsize=(10, 5))\n",
    "\n",
    "# create a grouped bar chart\n",
    "# for each departure period display multiple bars, one for each arrival period\n",
    "sns.barplot(x='departure_period', y='price', data=df2, estimator='mean', palette='Greys_r', hue='arrival_period', errorbar=None)\n",
    "plt.title('Average ticket price by Departure and Arrival period')\n",
    "plt.xlabel('Departure Period')\n",
    "plt.ylabel('Average Price')\n",
    "plt.legend(title='Arrival Period', bbox_to_anchor=(1.05, 1))\n",
    "plt.show()"
   ]
  },
  {
   "cell_type": "markdown",
   "id": "ed38463a-22ae-4fb9-a92c-b81be2d6e944",
   "metadata": {},
   "source": [
    "Average ticket price reached its **maximum** when flight departure was at **night** and arrival was in the **evening**.<br>\n",
    "Meanwhile, it was at a **minimum** when both departure and arrival were during the **late night** period."
   ]
  },
  {
   "cell_type": "markdown",
   "id": "e524b81d-838b-45e6-bd84-cc6e1b4ee4e0",
   "metadata": {},
   "source": [
    "### What _cities_ do most flights depart from and arrive to and vice versa?"
   ]
  },
  {
   "cell_type": "code",
   "execution_count": null,
   "id": "4bfa1536-6aa1-4c7f-83c7-c62656a96679",
   "metadata": {},
   "outputs": [],
   "source": [
    "# count number of source and destination cities\n",
    "\n",
    "source_count= df2['source_city'].value_counts()\n",
    "destination_count= df2['destination_city'].value_counts()\n",
    "print(source_count)\n",
    "print('\\n', destination_count)"
   ]
  },
  {
   "cell_type": "code",
   "execution_count": null,
   "id": "c6d4a45b-5702-4cc2-9f97-6931a7905dd3",
   "metadata": {},
   "outputs": [],
   "source": [
    "plt.figure(figsize=(12, 4))\n",
    "\n",
    "# source bar plot\n",
    "\n",
    "plt.subplot(1, 2, 1)\n",
    "plt.bar(source_count.index, source_count.values, color='#ecf2bf')\n",
    "plt.title('Flight Source')\n",
    "plt.xlabel('Source City')\n",
    "plt.ylabel('Number of Flights')\n",
    "plt.xticks(rotation=45)\n",
    "\n",
    "# destination bar plot\n",
    "\n",
    "plt.subplot(1, 2, 2)\n",
    "plt.bar(destination_count.index, destination_count.values, color='seagreen')\n",
    "plt.title('Flight Destination')\n",
    "plt.xlabel('Destination City')\n",
    "plt.xticks(rotation=45)\n",
    "plt.show()"
   ]
  },
  {
   "cell_type": "markdown",
   "id": "222808a2-9717-4b44-a0a4-c1ad914d8a2d",
   "metadata": {},
   "source": [
    "Most flights departed from **Delhi** and arrived to **Mumbai**.<br>\n",
    "The least amount of flights departed from and arrived to **Channai**."
   ]
  },
  {
   "cell_type": "markdown",
   "id": "4ca73323-eba9-4629-9a77-8a9f1d75bb04",
   "metadata": {},
   "source": [
    "### Does ticket _price_ vary with change in _source_ and _destination_ cities?"
   ]
  },
  {
   "cell_type": "code",
   "execution_count": null,
   "id": "17b56e84-b3a9-458c-b6d6-500d3977d239",
   "metadata": {},
   "outputs": [],
   "source": [
    "plt.figure(figsize=(10, 5))\n",
    "\n",
    "# create a grouped bar chart\n",
    "# for each source city display multiple bars, one for each destination city\n",
    "sns.barplot(x='source_city', y='price', data=df2, estimator='mean', palette='YlGn', hue='destination_city', errorbar=None)\n",
    "plt.title('Average ticket price by Source and Destination city')\n",
    "plt.xlabel('Source City')\n",
    "plt.ylabel('Average Price')\n",
    "plt.legend(title='Destination City', bbox_to_anchor=(1.05, 1))\n",
    "plt.show()"
   ]
  },
  {
   "cell_type": "markdown",
   "id": "c038b031-9fef-41fd-bbb6-d8abf90b313a",
   "metadata": {},
   "source": [
    "On average the most expensive flights are from **Chennai to Bangalore**, and the least expensive are from **Hyderabad to Delhi**.<br>\n",
    "Also, average price is the lowest when the source and destination city is **Delhi**."
   ]
  },
  {
   "cell_type": "markdown",
   "id": "812b3ea5-27ae-48b1-8e3a-edc0c9611255",
   "metadata": {},
   "source": [
    "### Is there a relationship between booking date and the price you pay?"
   ]
  },
  {
   "cell_type": "code",
   "execution_count": null,
   "id": "694820db-9d6e-4c7e-b360-0998178cb798",
   "metadata": {},
   "outputs": [],
   "source": [
    "# create a scatter plot\n",
    "\n",
    "plt.figure(figsize=(8, 6))\n",
    "plt.scatter(df2['days_left'], df2['price'], color='indigo', edgecolors='white')\n",
    "plt.title('Impact of timing on flight cost')\n",
    "plt.xlabel('Days Left')\n",
    "plt.ylabel('Price (rupees)')\n",
    "plt.gca().invert_xaxis() # invert x-axis for better interpretation\n",
    "plt.grid(True)\n",
    "plt.show()"
   ]
  },
  {
   "cell_type": "markdown",
   "id": "514a8a16-456a-4bce-990a-4bd7c9d81962",
   "metadata": {},
   "source": [
    "The cheapest tickets were purchased _weeks_ before departure date.<br>\n",
    "Prices tend to be higher closer to departure date, although there's significant variability and some lower prices can still be found closer to departure date."
   ]
  },
  {
   "cell_type": "markdown",
   "id": "5bd2357c-1650-4425-8bfd-25abb25ae3c1",
   "metadata": {},
   "source": [
    "### What is the trend of price changes as the departure day approaches?"
   ]
  },
  {
   "cell_type": "code",
   "execution_count": null,
   "id": "71ec8182-6780-47fd-b882-45763d1eebe5",
   "metadata": {},
   "outputs": [],
   "source": [
    "# create a line graph\n",
    "plt.figure(figsize=(10, 5))\n",
    "\n",
    "# calculate the mean price for each unique value of 'days_left'\n",
    "sns.lineplot(x='days_left', y='price', data=df2, estimator='mean', errorbar=None) \n",
    "plt.title('Trend of Average Flight Price by Days Left Until Departure')\n",
    "plt.xlabel('Days Left')\n",
    "plt.ylabel('Average Price')\n",
    "plt.gca().invert_xaxis() # invert x-axis for better interpretation\n",
    "plt.grid(True)\n",
    "plt.show()"
   ]
  },
  {
   "cell_type": "markdown",
   "id": "9a265220-b5cf-4c47-b913-d01efb555e90",
   "metadata": {},
   "source": [
    "The trend line shows that the average price consistently increases and then spikes around the 2 day mark.<br>\n",
    "It then decreases 1 day before departure, which could be because some airlines offer discounts to fill empty seats."
   ]
  },
  {
   "cell_type": "markdown",
   "id": "cf61adcd-7914-4144-a1d8-005ff17048a1",
   "metadata": {},
   "source": [
    "## Conclusion"
   ]
  },
  {
   "cell_type": "markdown",
   "id": "22a82e59-e609-48c7-976b-e53e3ee539cd",
   "metadata": {},
   "source": [
    "A flight booking platform can utilise this analysis to perform the following actions:\n",
    "- Promote popular airlines, and secure exclusive deals to boost conversions.\n",
    "- Target business class passengers with flexible ticketing and loyalty perks.\n",
    "- Offer dynamic pricing based on flight time demand or recommend other time options for users on a budget.\n",
    "- Highlight popular city pairs on the homepage, and provide package offers or loyalty rewards for frequently traveled routes.\n",
    "- Implement countdown-based price alerts to create a sense of urgency.\n",
    "- Launch seasonal campaigns, and offer discounts during off-peak times."
   ]
  }
 ],
 "metadata": {
  "kernelspec": {
   "display_name": "Python 3 (ipykernel)",
   "language": "python",
   "name": "python3"
  },
  "language_info": {
   "codemirror_mode": {
    "name": "ipython",
    "version": 3
   },
   "file_extension": ".py",
   "mimetype": "text/x-python",
   "name": "python",
   "nbconvert_exporter": "python",
   "pygments_lexer": "ipython3",
   "version": "3.13.5"
  }
 },
 "nbformat": 4,
 "nbformat_minor": 5
}
