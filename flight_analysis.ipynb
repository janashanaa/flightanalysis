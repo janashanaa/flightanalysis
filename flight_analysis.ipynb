{
 "cells": [
  {
   "cell_type": "markdown",
   "id": "fac9e0b6-c68a-4f05-be80-e9798e5aab35",
   "metadata": {},
   "source": [
    "# Introduction"
   ]
  },
  {
   "cell_type": "markdown",
   "id": "b475bf48-9fb9-4016-a930-602d94660f92",
   "metadata": {},
   "source": [
    "In this project I will be analysing the following [dataset](https://www.kaggle.com/datasets/shubhambathwal/flight-price-prediction) that is derived from a flight booking website.<br>\n",
    "\n",
    "The following tasks will be performed:\n",
    "1. Data cleaning using Python\n",
    "2. Exploratory data analysis (EDA) using python libraries (Pandas, Matplotlib)\n",
    "3. Data visualisation using Matplotlib and Seaborn"
   ]
  },
  {
   "cell_type": "markdown",
   "id": "d9381018-0b5a-45b7-8660-1846ed5a848b",
   "metadata": {},
   "source": [
    "## Importing Required Libraries"
   ]
  },
  {
   "cell_type": "code",
   "execution_count": 1,
   "id": "2ab03aae-3f1d-4d4d-88f1-aed0939ea30d",
   "metadata": {
    "scrolled": true
   },
   "outputs": [],
   "source": [
    "# import the required python libraries\n",
    "\n",
    "import pandas as pd\n",
    "import matplotlib.pyplot as plt\n",
    "import numpy as np\n",
    "import seaborn as sns"
   ]
  },
  {
   "cell_type": "markdown",
   "id": "92494c20-055f-46cd-b13e-f4660d5bc400",
   "metadata": {},
   "source": [
    "## Data Loading and Intial Inspection"
   ]
  },
  {
   "cell_type": "code",
   "execution_count": 2,
   "id": "8c6b2d06-d5f6-42fb-bc4e-b0d6726c847c",
   "metadata": {},
   "outputs": [],
   "source": [
    "# import the dataset using the first column as the index\n",
    "\n",
    "df = pd.read_csv(\"C:\\\\Users\\\\Jana\\\\Desktop\\\\Flight Analysis\\\\flight_dataset.csv\", index_col = 0)"
   ]
  },
  {
   "cell_type": "code",
   "execution_count": 3,
   "id": "8d8222fa-5769-4674-9515-51f62414dcde",
   "metadata": {},
   "outputs": [
    {
     "data": {
      "text/html": [
       "<div>\n",
       "<style scoped>\n",
       "    .dataframe tbody tr th:only-of-type {\n",
       "        vertical-align: middle;\n",
       "    }\n",
       "\n",
       "    .dataframe tbody tr th {\n",
       "        vertical-align: top;\n",
       "    }\n",
       "\n",
       "    .dataframe thead th {\n",
       "        text-align: right;\n",
       "    }\n",
       "</style>\n",
       "<table border=\"1\" class=\"dataframe\">\n",
       "  <thead>\n",
       "    <tr style=\"text-align: right;\">\n",
       "      <th></th>\n",
       "      <th>airline</th>\n",
       "      <th>flight</th>\n",
       "      <th>source_city</th>\n",
       "      <th>departure_time</th>\n",
       "      <th>stops</th>\n",
       "      <th>arrival_time</th>\n",
       "      <th>destination_city</th>\n",
       "      <th>class</th>\n",
       "      <th>duration</th>\n",
       "      <th>days_left</th>\n",
       "      <th>price</th>\n",
       "    </tr>\n",
       "  </thead>\n",
       "  <tbody>\n",
       "    <tr>\n",
       "      <th>0</th>\n",
       "      <td>SpiceJet</td>\n",
       "      <td>SG-8709</td>\n",
       "      <td>Delhi</td>\n",
       "      <td>Evening</td>\n",
       "      <td>zero</td>\n",
       "      <td>Night</td>\n",
       "      <td>Mumbai</td>\n",
       "      <td>Economy</td>\n",
       "      <td>2.17</td>\n",
       "      <td>1</td>\n",
       "      <td>5953</td>\n",
       "    </tr>\n",
       "    <tr>\n",
       "      <th>1</th>\n",
       "      <td>SpiceJet</td>\n",
       "      <td>SG-8157</td>\n",
       "      <td>Delhi</td>\n",
       "      <td>Early_Morning</td>\n",
       "      <td>zero</td>\n",
       "      <td>Morning</td>\n",
       "      <td>Mumbai</td>\n",
       "      <td>Economy</td>\n",
       "      <td>2.33</td>\n",
       "      <td>1</td>\n",
       "      <td>5953</td>\n",
       "    </tr>\n",
       "    <tr>\n",
       "      <th>2</th>\n",
       "      <td>AirAsia</td>\n",
       "      <td>I5-764</td>\n",
       "      <td>Delhi</td>\n",
       "      <td>Early_Morning</td>\n",
       "      <td>zero</td>\n",
       "      <td>Early_Morning</td>\n",
       "      <td>Mumbai</td>\n",
       "      <td>Economy</td>\n",
       "      <td>2.17</td>\n",
       "      <td>1</td>\n",
       "      <td>5956</td>\n",
       "    </tr>\n",
       "    <tr>\n",
       "      <th>3</th>\n",
       "      <td>Vistara</td>\n",
       "      <td>UK-995</td>\n",
       "      <td>Delhi</td>\n",
       "      <td>Morning</td>\n",
       "      <td>zero</td>\n",
       "      <td>Afternoon</td>\n",
       "      <td>Mumbai</td>\n",
       "      <td>Economy</td>\n",
       "      <td>2.25</td>\n",
       "      <td>1</td>\n",
       "      <td>5955</td>\n",
       "    </tr>\n",
       "    <tr>\n",
       "      <th>4</th>\n",
       "      <td>Vistara</td>\n",
       "      <td>UK-963</td>\n",
       "      <td>Delhi</td>\n",
       "      <td>Morning</td>\n",
       "      <td>zero</td>\n",
       "      <td>Morning</td>\n",
       "      <td>Mumbai</td>\n",
       "      <td>Economy</td>\n",
       "      <td>2.33</td>\n",
       "      <td>1</td>\n",
       "      <td>5955</td>\n",
       "    </tr>\n",
       "  </tbody>\n",
       "</table>\n",
       "</div>"
      ],
      "text/plain": [
       "    airline   flight source_city departure_time stops   arrival_time  \\\n",
       "0  SpiceJet  SG-8709       Delhi        Evening  zero          Night   \n",
       "1  SpiceJet  SG-8157       Delhi  Early_Morning  zero        Morning   \n",
       "2   AirAsia   I5-764       Delhi  Early_Morning  zero  Early_Morning   \n",
       "3   Vistara   UK-995       Delhi        Morning  zero      Afternoon   \n",
       "4   Vistara   UK-963       Delhi        Morning  zero        Morning   \n",
       "\n",
       "  destination_city    class  duration  days_left  price  \n",
       "0           Mumbai  Economy      2.17          1   5953  \n",
       "1           Mumbai  Economy      2.33          1   5953  \n",
       "2           Mumbai  Economy      2.17          1   5956  \n",
       "3           Mumbai  Economy      2.25          1   5955  \n",
       "4           Mumbai  Economy      2.33          1   5955  "
      ]
     },
     "execution_count": 3,
     "metadata": {},
     "output_type": "execute_result"
    }
   ],
   "source": [
    "# display first 5 rows\n",
    "\n",
    "df.head()"
   ]
  },
  {
   "cell_type": "code",
   "execution_count": 4,
   "id": "9b24fc71-44f0-448a-add9-cfd4625d46b8",
   "metadata": {},
   "outputs": [
    {
     "data": {
      "text/plain": [
       "(300153, 11)"
      ]
     },
     "execution_count": 4,
     "metadata": {},
     "output_type": "execute_result"
    }
   ],
   "source": [
    "# view the dataset's dimentionality (rows, columns)\n",
    "\n",
    "df.shape"
   ]
  },
  {
   "cell_type": "code",
   "execution_count": 5,
   "id": "5f1f124c-5621-469f-966b-48b87743ce9c",
   "metadata": {},
   "outputs": [
    {
     "name": "stdout",
     "output_type": "stream",
     "text": [
      "<class 'pandas.core.frame.DataFrame'>\n",
      "Index: 300153 entries, 0 to 300152\n",
      "Data columns (total 11 columns):\n",
      " #   Column            Non-Null Count   Dtype  \n",
      "---  ------            --------------   -----  \n",
      " 0   airline           300153 non-null  object \n",
      " 1   flight            300153 non-null  object \n",
      " 2   source_city       300153 non-null  object \n",
      " 3   departure_time    300153 non-null  object \n",
      " 4   stops             300153 non-null  object \n",
      " 5   arrival_time      300153 non-null  object \n",
      " 6   destination_city  300153 non-null  object \n",
      " 7   class             300153 non-null  object \n",
      " 8   duration          300153 non-null  float64\n",
      " 9   days_left         300153 non-null  int64  \n",
      " 10  price             300153 non-null  int64  \n",
      "dtypes: float64(1), int64(2), object(8)\n",
      "memory usage: 27.5+ MB\n"
     ]
    }
   ],
   "source": [
    "# get information about the dataset\n",
    "\n",
    "df.info()"
   ]
  },
  {
   "cell_type": "markdown",
   "id": "968de848-87b1-430b-b68b-4ebbc6c356d7",
   "metadata": {},
   "source": [
    "### About the Dataset"
   ]
  },
  {
   "cell_type": "markdown",
   "id": "d5769491-3e29-4e92-b3e3-02e923bedc6f",
   "metadata": {},
   "source": [
    "The dataset contains the following attributes: <br>\n",
    "\n",
    "1. **Airline:** The name of the airline company.\n",
    "2. **Flight Code:** The plane's flight code which consists of a two-character airline designator and a 1 to 4 digit number.\n",
    "4. **Source City:** The departure city which is the city where the journey begins and the passenger starts their travel.\n",
    "5. **Departure Period:** The departure period of the flight created by grouping time periods into bins.\n",
    "6. **Stops:** The number of stops between the source and destination cities.\n",
    "7. **Arrival Period:** The arrival period of the flight created by grouping time periods into bins.\n",
    "8. **Destination City:** The final city that marks the end of the flight.\n",
    "9. **Class:** The specific cabin or level of service depending on the seat.\n",
    "10. **Duration:** The overall time it takes to travel between cities in hours.\n",
    "11. **Days Left:** The number of days between booking and flight date.\n",
    "12. **Price:** The ticket price provided in the same currency."
   ]
  },
  {
   "cell_type": "markdown",
   "id": "dc8b30de-0cc9-4d89-bec2-37b361125eba",
   "metadata": {},
   "source": [
    "## Data Cleaning"
   ]
  },
  {
   "cell_type": "code",
   "execution_count": 6,
   "id": "dcbf56e8-87a7-42e2-9825-e5588e0bd44c",
   "metadata": {},
   "outputs": [
    {
     "data": {
      "text/html": [
       "<div>\n",
       "<style scoped>\n",
       "    .dataframe tbody tr th:only-of-type {\n",
       "        vertical-align: middle;\n",
       "    }\n",
       "\n",
       "    .dataframe tbody tr th {\n",
       "        vertical-align: top;\n",
       "    }\n",
       "\n",
       "    .dataframe thead th {\n",
       "        text-align: right;\n",
       "    }\n",
       "</style>\n",
       "<table border=\"1\" class=\"dataframe\">\n",
       "  <thead>\n",
       "    <tr style=\"text-align: right;\">\n",
       "      <th></th>\n",
       "      <th>airline</th>\n",
       "      <th>flight_code</th>\n",
       "      <th>source_city</th>\n",
       "      <th>departure_period</th>\n",
       "      <th>stops</th>\n",
       "      <th>arrival_period</th>\n",
       "      <th>destination_city</th>\n",
       "      <th>class</th>\n",
       "      <th>duration</th>\n",
       "      <th>days_left</th>\n",
       "      <th>price</th>\n",
       "    </tr>\n",
       "  </thead>\n",
       "  <tbody>\n",
       "    <tr>\n",
       "      <th>0</th>\n",
       "      <td>SpiceJet</td>\n",
       "      <td>SG-8709</td>\n",
       "      <td>Delhi</td>\n",
       "      <td>Evening</td>\n",
       "      <td>zero</td>\n",
       "      <td>Night</td>\n",
       "      <td>Mumbai</td>\n",
       "      <td>Economy</td>\n",
       "      <td>2.17</td>\n",
       "      <td>1</td>\n",
       "      <td>5953</td>\n",
       "    </tr>\n",
       "    <tr>\n",
       "      <th>1</th>\n",
       "      <td>SpiceJet</td>\n",
       "      <td>SG-8157</td>\n",
       "      <td>Delhi</td>\n",
       "      <td>Early_Morning</td>\n",
       "      <td>zero</td>\n",
       "      <td>Morning</td>\n",
       "      <td>Mumbai</td>\n",
       "      <td>Economy</td>\n",
       "      <td>2.33</td>\n",
       "      <td>1</td>\n",
       "      <td>5953</td>\n",
       "    </tr>\n",
       "    <tr>\n",
       "      <th>2</th>\n",
       "      <td>AirAsia</td>\n",
       "      <td>I5-764</td>\n",
       "      <td>Delhi</td>\n",
       "      <td>Early_Morning</td>\n",
       "      <td>zero</td>\n",
       "      <td>Early_Morning</td>\n",
       "      <td>Mumbai</td>\n",
       "      <td>Economy</td>\n",
       "      <td>2.17</td>\n",
       "      <td>1</td>\n",
       "      <td>5956</td>\n",
       "    </tr>\n",
       "    <tr>\n",
       "      <th>3</th>\n",
       "      <td>Vistara</td>\n",
       "      <td>UK-995</td>\n",
       "      <td>Delhi</td>\n",
       "      <td>Morning</td>\n",
       "      <td>zero</td>\n",
       "      <td>Afternoon</td>\n",
       "      <td>Mumbai</td>\n",
       "      <td>Economy</td>\n",
       "      <td>2.25</td>\n",
       "      <td>1</td>\n",
       "      <td>5955</td>\n",
       "    </tr>\n",
       "    <tr>\n",
       "      <th>4</th>\n",
       "      <td>Vistara</td>\n",
       "      <td>UK-963</td>\n",
       "      <td>Delhi</td>\n",
       "      <td>Morning</td>\n",
       "      <td>zero</td>\n",
       "      <td>Morning</td>\n",
       "      <td>Mumbai</td>\n",
       "      <td>Economy</td>\n",
       "      <td>2.33</td>\n",
       "      <td>1</td>\n",
       "      <td>5955</td>\n",
       "    </tr>\n",
       "    <tr>\n",
       "      <th>...</th>\n",
       "      <td>...</td>\n",
       "      <td>...</td>\n",
       "      <td>...</td>\n",
       "      <td>...</td>\n",
       "      <td>...</td>\n",
       "      <td>...</td>\n",
       "      <td>...</td>\n",
       "      <td>...</td>\n",
       "      <td>...</td>\n",
       "      <td>...</td>\n",
       "      <td>...</td>\n",
       "    </tr>\n",
       "    <tr>\n",
       "      <th>300148</th>\n",
       "      <td>Vistara</td>\n",
       "      <td>UK-822</td>\n",
       "      <td>Chennai</td>\n",
       "      <td>Morning</td>\n",
       "      <td>one</td>\n",
       "      <td>Evening</td>\n",
       "      <td>Hyderabad</td>\n",
       "      <td>Business</td>\n",
       "      <td>10.08</td>\n",
       "      <td>49</td>\n",
       "      <td>69265</td>\n",
       "    </tr>\n",
       "    <tr>\n",
       "      <th>300149</th>\n",
       "      <td>Vistara</td>\n",
       "      <td>UK-826</td>\n",
       "      <td>Chennai</td>\n",
       "      <td>Afternoon</td>\n",
       "      <td>one</td>\n",
       "      <td>Night</td>\n",
       "      <td>Hyderabad</td>\n",
       "      <td>Business</td>\n",
       "      <td>10.42</td>\n",
       "      <td>49</td>\n",
       "      <td>77105</td>\n",
       "    </tr>\n",
       "    <tr>\n",
       "      <th>300150</th>\n",
       "      <td>Vistara</td>\n",
       "      <td>UK-832</td>\n",
       "      <td>Chennai</td>\n",
       "      <td>Early_Morning</td>\n",
       "      <td>one</td>\n",
       "      <td>Night</td>\n",
       "      <td>Hyderabad</td>\n",
       "      <td>Business</td>\n",
       "      <td>13.83</td>\n",
       "      <td>49</td>\n",
       "      <td>79099</td>\n",
       "    </tr>\n",
       "    <tr>\n",
       "      <th>300151</th>\n",
       "      <td>Vistara</td>\n",
       "      <td>UK-828</td>\n",
       "      <td>Chennai</td>\n",
       "      <td>Early_Morning</td>\n",
       "      <td>one</td>\n",
       "      <td>Evening</td>\n",
       "      <td>Hyderabad</td>\n",
       "      <td>Business</td>\n",
       "      <td>10.00</td>\n",
       "      <td>49</td>\n",
       "      <td>81585</td>\n",
       "    </tr>\n",
       "    <tr>\n",
       "      <th>300152</th>\n",
       "      <td>Vistara</td>\n",
       "      <td>UK-822</td>\n",
       "      <td>Chennai</td>\n",
       "      <td>Morning</td>\n",
       "      <td>one</td>\n",
       "      <td>Evening</td>\n",
       "      <td>Hyderabad</td>\n",
       "      <td>Business</td>\n",
       "      <td>10.08</td>\n",
       "      <td>49</td>\n",
       "      <td>81585</td>\n",
       "    </tr>\n",
       "  </tbody>\n",
       "</table>\n",
       "<p>300153 rows × 11 columns</p>\n",
       "</div>"
      ],
      "text/plain": [
       "         airline flight_code source_city departure_period stops  \\\n",
       "0       SpiceJet     SG-8709       Delhi          Evening  zero   \n",
       "1       SpiceJet     SG-8157       Delhi    Early_Morning  zero   \n",
       "2        AirAsia      I5-764       Delhi    Early_Morning  zero   \n",
       "3        Vistara      UK-995       Delhi          Morning  zero   \n",
       "4        Vistara      UK-963       Delhi          Morning  zero   \n",
       "...          ...         ...         ...              ...   ...   \n",
       "300148   Vistara      UK-822     Chennai          Morning   one   \n",
       "300149   Vistara      UK-826     Chennai        Afternoon   one   \n",
       "300150   Vistara      UK-832     Chennai    Early_Morning   one   \n",
       "300151   Vistara      UK-828     Chennai    Early_Morning   one   \n",
       "300152   Vistara      UK-822     Chennai          Morning   one   \n",
       "\n",
       "       arrival_period destination_city     class  duration  days_left  price  \n",
       "0               Night           Mumbai   Economy      2.17          1   5953  \n",
       "1             Morning           Mumbai   Economy      2.33          1   5953  \n",
       "2       Early_Morning           Mumbai   Economy      2.17          1   5956  \n",
       "3           Afternoon           Mumbai   Economy      2.25          1   5955  \n",
       "4             Morning           Mumbai   Economy      2.33          1   5955  \n",
       "...               ...              ...       ...       ...        ...    ...  \n",
       "300148        Evening        Hyderabad  Business     10.08         49  69265  \n",
       "300149          Night        Hyderabad  Business     10.42         49  77105  \n",
       "300150          Night        Hyderabad  Business     13.83         49  79099  \n",
       "300151        Evening        Hyderabad  Business     10.00         49  81585  \n",
       "300152        Evening        Hyderabad  Business     10.08         49  81585  \n",
       "\n",
       "[300153 rows x 11 columns]"
      ]
     },
     "execution_count": 6,
     "metadata": {},
     "output_type": "execute_result"
    }
   ],
   "source": [
    "# renaming some columns for better understanding\n",
    "\n",
    "df.rename(columns={'flight': 'flight_code' , 'departure_time': 'departure_period' , 'arrival_time': 'arrival_period'}, inplace = True)\n",
    "df"
   ]
  },
  {
   "cell_type": "code",
   "execution_count": 7,
   "id": "50338969-e019-4eac-a91a-26c2bbc28ca8",
   "metadata": {},
   "outputs": [
    {
     "name": "stdout",
     "output_type": "stream",
     "text": [
      "airline             0\n",
      "flight_code         0\n",
      "source_city         0\n",
      "departure_period    0\n",
      "stops               0\n",
      "arrival_period      0\n",
      "destination_city    0\n",
      "class               0\n",
      "duration            0\n",
      "days_left           0\n",
      "price               0\n",
      "dtype: int64\n"
     ]
    }
   ],
   "source": [
    "# count missing values\n",
    "\n",
    "print(df.isnull().sum())"
   ]
  },
  {
   "cell_type": "markdown",
   "id": "7dd2dfbe-ed46-43d5-903a-12e3e4e9c702",
   "metadata": {},
   "source": [
    "**This shows that there are no _null_ or missing values in the dataframe.**"
   ]
  },
  {
   "cell_type": "code",
   "execution_count": 8,
   "id": "758277e2-9327-4689-b89d-12655cae9669",
   "metadata": {},
   "outputs": [
    {
     "name": "stdout",
     "output_type": "stream",
     "text": [
      "Does the dataframe have any duplicate rows?\n",
      "False\n"
     ]
    }
   ],
   "source": [
    "# detect duplicate rows\n",
    "\n",
    "has_duplicates = df.duplicated().any()\n",
    "print(f\"Does the dataframe have any duplicate rows?\\n{has_duplicates}\")"
   ]
  },
  {
   "cell_type": "code",
   "execution_count": 9,
   "id": "2bb410ed-07f1-4751-a478-df846bcb8873",
   "metadata": {},
   "outputs": [
    {
     "name": "stdout",
     "output_type": "stream",
     "text": [
      "         airline flight_code source_city departure_period stops  \\\n",
      "0       SpiceJet     SG-8709       Delhi          Evening  zero   \n",
      "1       SpiceJet     SG-8157       Delhi    Early_Morning  zero   \n",
      "2        AirAsia      I5-764       Delhi    Early_Morning  zero   \n",
      "3        Vistara      UK-995       Delhi          Morning  zero   \n",
      "4        Vistara      UK-963       Delhi          Morning  zero   \n",
      "...          ...         ...         ...              ...   ...   \n",
      "300148   Vistara      UK-822     Chennai          Morning   one   \n",
      "300149   Vistara      UK-826     Chennai        Afternoon   one   \n",
      "300150   Vistara      UK-832     Chennai    Early_Morning   one   \n",
      "300151   Vistara      UK-828     Chennai    Early_Morning   one   \n",
      "300152   Vistara      UK-822     Chennai          Morning   one   \n",
      "\n",
      "       arrival_period destination_city     class  duration  days_left  price  \n",
      "0               Night           Mumbai   Economy      2.17          1   5953  \n",
      "1             Morning           Mumbai   Economy      2.33          1   5953  \n",
      "2       Early_Morning           Mumbai   Economy      2.17          1   5956  \n",
      "3           Afternoon           Mumbai   Economy      2.25          1   5955  \n",
      "4             Morning           Mumbai   Economy      2.33          1   5955  \n",
      "...               ...              ...       ...       ...        ...    ...  \n",
      "300148        Evening        Hyderabad  Business     10.08         49  69265  \n",
      "300149          Night        Hyderabad  Business     10.42         49  77105  \n",
      "300150          Night        Hyderabad  Business     13.83         49  79099  \n",
      "300151        Evening        Hyderabad  Business     10.00         49  81585  \n",
      "300152        Evening        Hyderabad  Business     10.08         49  81585  \n",
      "\n",
      "[300153 rows x 11 columns]\n"
     ]
    }
   ],
   "source": [
    "# remove leading and trailing spaces\n",
    "\n",
    "df_stripped = df.map(lambda x: x.strip() if isinstance(x, str) else x)\n",
    "print(df_stripped)"
   ]
  },
  {
   "cell_type": "code",
   "execution_count": 10,
   "id": "e43ffad8-050f-4078-903a-0f36e8355e09",
   "metadata": {},
   "outputs": [
    {
     "name": "stdout",
     "output_type": "stream",
     "text": [
      "Cleaned data saved to 'cleaned_data.csv'\n"
     ]
    }
   ],
   "source": [
    "# save the clean data\n",
    "\n",
    "df.to_csv('cleaned_data.csv', index = False)\n",
    "print(\"Cleaned data saved to 'cleaned_data.csv'\")"
   ]
  }
 ],
 "metadata": {
  "kernelspec": {
   "display_name": "Python 3 (ipykernel)",
   "language": "python",
   "name": "python3"
  },
  "language_info": {
   "codemirror_mode": {
    "name": "ipython",
    "version": 3
   },
   "file_extension": ".py",
   "mimetype": "text/x-python",
   "name": "python",
   "nbconvert_exporter": "python",
   "pygments_lexer": "ipython3",
   "version": "3.13.5"
  }
 },
 "nbformat": 4,
 "nbformat_minor": 5
}
